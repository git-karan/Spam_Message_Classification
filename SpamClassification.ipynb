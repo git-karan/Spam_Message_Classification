{
  "nbformat": 4,
  "nbformat_minor": 0,
  "metadata": {
    "colab": {
      "name": "SpamClassification.ipynb",
      "provenance": [],
      "collapsed_sections": [],
      "authorship_tag": "ABX9TyOUm6V6HgfIeNbywwHaT34N",
      "include_colab_link": true
    },
    "kernelspec": {
      "name": "python3",
      "display_name": "Python 3"
    }
  },
  "cells": [
    {
      "cell_type": "markdown",
      "metadata": {
        "id": "view-in-github",
        "colab_type": "text"
      },
      "source": [
        "<a href=\"https://colab.research.google.com/github/git-karan/Spam_Message_Classification/blob/master/SpamClassification.ipynb\" target=\"_parent\"><img src=\"https://colab.research.google.com/assets/colab-badge.svg\" alt=\"Open In Colab\"/></a>"
      ]
    },
    {
      "cell_type": "code",
      "metadata": {
        "id": "TDYqenmc6AHt",
        "colab_type": "code",
        "colab": {
          "base_uri": "https://localhost:8080/",
          "height": 124
        },
        "outputId": "7a79be9a-2be3-47aa-ca35-2f0d993230a2"
      },
      "source": [
        "from google.colab import drive\n",
        "drive.mount('/content/drive')"
      ],
      "execution_count": 1,
      "outputs": [
        {
          "output_type": "stream",
          "text": [
            "Go to this URL in a browser: https://accounts.google.com/o/oauth2/auth?client_id=947318989803-6bn6qk8qdgf4n4g3pfee6491hc0brc4i.apps.googleusercontent.com&redirect_uri=urn%3aietf%3awg%3aoauth%3a2.0%3aoob&response_type=code&scope=email%20https%3a%2f%2fwww.googleapis.com%2fauth%2fdocs.test%20https%3a%2f%2fwww.googleapis.com%2fauth%2fdrive%20https%3a%2f%2fwww.googleapis.com%2fauth%2fdrive.photos.readonly%20https%3a%2f%2fwww.googleapis.com%2fauth%2fpeopleapi.readonly\n",
            "\n",
            "Enter your authorization code:\n",
            "··········\n",
            "Mounted at /content/drive\n"
          ],
          "name": "stdout"
        }
      ]
    },
    {
      "cell_type": "code",
      "metadata": {
        "id": "BHGlF1Yk9YwT",
        "colab_type": "code",
        "colab": {
          "base_uri": "https://localhost:8080/",
          "height": 72
        },
        "outputId": "cea5dc6b-14ba-46e9-bcc7-1a8efad8ba1a"
      },
      "source": [
        "import numpy as np\n",
        "import pandas as pd\n",
        "import matplotlib.pyplot as plt\n",
        "import seaborn as sns"
      ],
      "execution_count": 2,
      "outputs": [
        {
          "output_type": "stream",
          "text": [
            "/usr/local/lib/python3.6/dist-packages/statsmodels/tools/_testing.py:19: FutureWarning: pandas.util.testing is deprecated. Use the functions in the public API at pandas.testing instead.\n",
            "  import pandas.util.testing as tm\n"
          ],
          "name": "stderr"
        }
      ]
    },
    {
      "cell_type": "code",
      "metadata": {
        "id": "EBN9viF99oJr",
        "colab_type": "code",
        "colab": {
          "base_uri": "https://localhost:8080/",
          "height": 202
        },
        "outputId": "87b2c60a-1d1e-40e1-b91e-410c76aa24be"
      },
      "source": [
        "data= pd.read_csv('/content/drive/My Drive/Colab Notebooks/Spam Classification/SPAM_Data.csv')\n",
        "data.head()"
      ],
      "execution_count": 3,
      "outputs": [
        {
          "output_type": "execute_result",
          "data": {
            "text/html": [
              "<div>\n",
              "<style scoped>\n",
              "    .dataframe tbody tr th:only-of-type {\n",
              "        vertical-align: middle;\n",
              "    }\n",
              "\n",
              "    .dataframe tbody tr th {\n",
              "        vertical-align: top;\n",
              "    }\n",
              "\n",
              "    .dataframe thead th {\n",
              "        text-align: right;\n",
              "    }\n",
              "</style>\n",
              "<table border=\"1\" class=\"dataframe\">\n",
              "  <thead>\n",
              "    <tr style=\"text-align: right;\">\n",
              "      <th></th>\n",
              "      <th>Category</th>\n",
              "      <th>Message</th>\n",
              "    </tr>\n",
              "  </thead>\n",
              "  <tbody>\n",
              "    <tr>\n",
              "      <th>0</th>\n",
              "      <td>ham</td>\n",
              "      <td>Go until jurong point, crazy.. Available only ...</td>\n",
              "    </tr>\n",
              "    <tr>\n",
              "      <th>1</th>\n",
              "      <td>ham</td>\n",
              "      <td>Ok lar... Joking wif u oni...</td>\n",
              "    </tr>\n",
              "    <tr>\n",
              "      <th>2</th>\n",
              "      <td>spam</td>\n",
              "      <td>Free entry in 2 a wkly comp to win FA Cup fina...</td>\n",
              "    </tr>\n",
              "    <tr>\n",
              "      <th>3</th>\n",
              "      <td>ham</td>\n",
              "      <td>U dun say so early hor... U c already then say...</td>\n",
              "    </tr>\n",
              "    <tr>\n",
              "      <th>4</th>\n",
              "      <td>ham</td>\n",
              "      <td>Nah I don't think he goes to usf, he lives aro...</td>\n",
              "    </tr>\n",
              "  </tbody>\n",
              "</table>\n",
              "</div>"
            ],
            "text/plain": [
              "  Category                                            Message\n",
              "0      ham  Go until jurong point, crazy.. Available only ...\n",
              "1      ham                      Ok lar... Joking wif u oni...\n",
              "2     spam  Free entry in 2 a wkly comp to win FA Cup fina...\n",
              "3      ham  U dun say so early hor... U c already then say...\n",
              "4      ham  Nah I don't think he goes to usf, he lives aro..."
            ]
          },
          "metadata": {
            "tags": []
          },
          "execution_count": 3
        }
      ]
    },
    {
      "cell_type": "markdown",
      "metadata": {
        "id": "KHAYOQln992P",
        "colab_type": "text"
      },
      "source": [
        "# Doing some basis EDA on the data"
      ]
    },
    {
      "cell_type": "code",
      "metadata": {
        "id": "ksg6iZ83-J1k",
        "colab_type": "code",
        "colab": {
          "base_uri": "https://localhost:8080/",
          "height": 173
        },
        "outputId": "1a5514f0-0d68-40da-c223-99122e47306b"
      },
      "source": [
        "data.info()"
      ],
      "execution_count": 4,
      "outputs": [
        {
          "output_type": "stream",
          "text": [
            "<class 'pandas.core.frame.DataFrame'>\n",
            "RangeIndex: 5572 entries, 0 to 5571\n",
            "Data columns (total 2 columns):\n",
            " #   Column    Non-Null Count  Dtype \n",
            "---  ------    --------------  ----- \n",
            " 0   Category  5572 non-null   object\n",
            " 1   Message   5572 non-null   object\n",
            "dtypes: object(2)\n",
            "memory usage: 87.2+ KB\n"
          ],
          "name": "stdout"
        }
      ]
    },
    {
      "cell_type": "code",
      "metadata": {
        "id": "l5_m-7pY-LqE",
        "colab_type": "code",
        "colab": {
          "base_uri": "https://localhost:8080/",
          "height": 69
        },
        "outputId": "479e7e13-e9f6-461e-83ef-726f11367144"
      },
      "source": [
        "data.Category.value_counts()"
      ],
      "execution_count": 5,
      "outputs": [
        {
          "output_type": "execute_result",
          "data": {
            "text/plain": [
              "ham     4825\n",
              "spam     747\n",
              "Name: Category, dtype: int64"
            ]
          },
          "metadata": {
            "tags": []
          },
          "execution_count": 5
        }
      ]
    },
    {
      "cell_type": "code",
      "metadata": {
        "id": "tDAq1j4Z-W1Z",
        "colab_type": "code",
        "colab": {
          "base_uri": "https://localhost:8080/",
          "height": 297
        },
        "outputId": "50d7186d-4899-4285-c62f-9c7dddf59022"
      },
      "source": [
        "sns.countplot(x='Category',data=data)"
      ],
      "execution_count": 6,
      "outputs": [
        {
          "output_type": "execute_result",
          "data": {
            "text/plain": [
              "<matplotlib.axes._subplots.AxesSubplot at 0x7f1143fcf5c0>"
            ]
          },
          "metadata": {
            "tags": []
          },
          "execution_count": 6
        },
        {
          "output_type": "display_data",
          "data": {
            "image/png": "[encoded data removed]",
            "text/plain": [
              "<Figure size 432x288 with 1 Axes>"
            ]
          },
          "metadata": {
            "tags": [],
            "needs_background": "light"
          }
        }
      ]
    },
    {
      "cell_type": "markdown",
      "metadata": {
        "id": "Mz9UrC6gBYs2",
        "colab_type": "text"
      },
      "source": [
        "# Text Pre-Processing"
      ]
    },
    {
      "cell_type": "markdown",
      "metadata": {
        "id": "TNtD1SYsBj0m",
        "colab_type": "text"
      },
      "source": [
        "\n",
        "\n",
        "*   Converting Category('ham', 'spam') to (0,1)\n",
        "\n",
        "\n"
      ]
    },
    {
      "cell_type": "code",
      "metadata": {
        "id": "6W3yeEyxB0tU",
        "colab_type": "code",
        "colab": {}
      },
      "source": [
        "data['label']= data.Category.map({'ham':0,'spam':1})"
      ],
      "execution_count": 7,
      "outputs": []
    },
    {
      "cell_type": "code",
      "metadata": {
        "id": "3jfmydQCCLwX",
        "colab_type": "code",
        "colab": {
          "base_uri": "https://localhost:8080/",
          "height": 202
        },
        "outputId": "dbd08a24-7f34-420a-eede-d1c08497814c"
      },
      "source": [
        "data.head()"
      ],
      "execution_count": 8,
      "outputs": [
        {
          "output_type": "execute_result",
          "data": {
            "text/html": [
              "<div>\n",
              "<style scoped>\n",
              "    .dataframe tbody tr th:only-of-type {\n",
              "        vertical-align: middle;\n",
              "    }\n",
              "\n",
              "    .dataframe tbody tr th {\n",
              "        vertical-align: top;\n",
              "    }\n",
              "\n",
              "    .dataframe thead th {\n",
              "        text-align: right;\n",
              "    }\n",
              "</style>\n",
              "<table border=\"1\" class=\"dataframe\">\n",
              "  <thead>\n",
              "    <tr style=\"text-align: right;\">\n",
              "      <th></th>\n",
              "      <th>Category</th>\n",
              "      <th>Message</th>\n",
              "      <th>label</th>\n",
              "    </tr>\n",
              "  </thead>\n",
              "  <tbody>\n",
              "    <tr>\n",
              "      <th>0</th>\n",
              "      <td>ham</td>\n",
              "      <td>Go until jurong point, crazy.. Available only ...</td>\n",
              "      <td>0</td>\n",
              "    </tr>\n",
              "    <tr>\n",
              "      <th>1</th>\n",
              "      <td>ham</td>\n",
              "      <td>Ok lar... Joking wif u oni...</td>\n",
              "      <td>0</td>\n",
              "    </tr>\n",
              "    <tr>\n",
              "      <th>2</th>\n",
              "      <td>spam</td>\n",
              "      <td>Free entry in 2 a wkly comp to win FA Cup fina...</td>\n",
              "      <td>1</td>\n",
              "    </tr>\n",
              "    <tr>\n",
              "      <th>3</th>\n",
              "      <td>ham</td>\n",
              "      <td>U dun say so early hor... U c already then say...</td>\n",
              "      <td>0</td>\n",
              "    </tr>\n",
              "    <tr>\n",
              "      <th>4</th>\n",
              "      <td>ham</td>\n",
              "      <td>Nah I don't think he goes to usf, he lives aro...</td>\n",
              "      <td>0</td>\n",
              "    </tr>\n",
              "  </tbody>\n",
              "</table>\n",
              "</div>"
            ],
            "text/plain": [
              "  Category                                            Message  label\n",
              "0      ham  Go until jurong point, crazy.. Available only ...      0\n",
              "1      ham                      Ok lar... Joking wif u oni...      0\n",
              "2     spam  Free entry in 2 a wkly comp to win FA Cup fina...      1\n",
              "3      ham  U dun say so early hor... U c already then say...      0\n",
              "4      ham  Nah I don't think he goes to usf, he lives aro...      0"
            ]
          },
          "metadata": {
            "tags": []
          },
          "execution_count": 8
        }
      ]
    },
    {
      "cell_type": "markdown",
      "metadata": {
        "id": "GXIhZ46wCXdP",
        "colab_type": "text"
      },
      "source": [
        "\n",
        "\n",
        "*   Preprocessing 'Message'\n",
        "  * Converting everything to Lower Case\n",
        "  * Removing everything except Alphabets\n",
        "  * Stopwords removal\n",
        "  * Stemming\n",
        "\n",
        "\n",
        "\n",
        "\n",
        "\n",
        "\n",
        "\n",
        "\n",
        "\n",
        "\n",
        "\n",
        "\n"
      ]
    },
    {
      "cell_type": "code",
      "metadata": {
        "id": "kQMpiPSJCtCx",
        "colab_type": "code",
        "colab": {
          "base_uri": "https://localhost:8080/",
          "height": 52
        },
        "outputId": "c015b984-48b9-401a-ad33-0414e8c133bb"
      },
      "source": [
        "import nltk\n",
        "import re\n",
        "from nltk.corpus import stopwords\n",
        "nltk.download('stopwords')\n",
        "from nltk.stem import SnowballStemmer\n"
      ],
      "execution_count": 9,
      "outputs": [
        {
          "output_type": "stream",
          "text": [
            "[nltk_data] Downloading package stopwords to /root/nltk_data...\n",
            "[nltk_data]   Unzipping corpora/stopwords.zip.\n"
          ],
          "name": "stdout"
        }
      ]
    },
    {
      "cell_type": "code",
      "metadata": {
        "id": "ovRkr5OfPJYR",
        "colab_type": "code",
        "colab": {}
      },
      "source": [
        "stopw=stopwords.words('english')"
      ],
      "execution_count": 10,
      "outputs": []
    },
    {
      "cell_type": "code",
      "metadata": {
        "id": "cFC_Jwp0R509",
        "colab_type": "code",
        "colab": {}
      },
      "source": [
        "sbs= SnowballStemmer('english')\n",
        "message_clean=[]\n",
        "for i in range(data.shape[0]):\n",
        "  mess= re.sub(pattern='[^A-Za-z]',repl=' ',string=data.Message.iloc[i])\n",
        "  mess=mess.lower()\n",
        "  mess= [word for word in mess.split() if word not in set(stopw)]\n",
        "  mess=[ sbs.stem(word) for word in mess ]\n",
        "  mess=' '.join(mess)\n",
        "  message_clean.append(mess)"
      ],
      "execution_count": 11,
      "outputs": []
    },
    {
      "cell_type": "code",
      "metadata": {
        "id": "iWsTwiuZUeMe",
        "colab_type": "code",
        "colab": {
          "base_uri": "https://localhost:8080/",
          "height": 104
        },
        "outputId": "c1b706ed-dcb3-4897-8e1e-7a93fa0a299f"
      },
      "source": [
        "message_clean[0:5]"
      ],
      "execution_count": 12,
      "outputs": [
        {
          "output_type": "execute_result",
          "data": {
            "text/plain": [
              "['go jurong point crazi avail bugi n great world la e buffet cine got amor wat',\n",
              " 'ok lar joke wif u oni',\n",
              " 'free entri wkli comp win fa cup final tkts st may text fa receiv entri question std txt rate c appli',\n",
              " 'u dun say earli hor u c alreadi say',\n",
              " 'nah think goe usf live around though']"
            ]
          },
          "metadata": {
            "tags": []
          },
          "execution_count": 12
        }
      ]
    },
    {
      "cell_type": "code",
      "metadata": {
        "id": "BWVcOFw4VPta",
        "colab_type": "code",
        "colab": {}
      },
      "source": [
        "data.drop(['Message','Category'],axis=1,inplace=True)"
      ],
      "execution_count": 13,
      "outputs": []
    },
    {
      "cell_type": "code",
      "metadata": {
        "id": "yhzv4TCaVz6F",
        "colab_type": "code",
        "colab": {}
      },
      "source": [
        "data['Message']= pd.Series(message_clean)"
      ],
      "execution_count": 14,
      "outputs": []
    },
    {
      "cell_type": "code",
      "metadata": {
        "id": "iaiFZNTUV31h",
        "colab_type": "code",
        "colab": {
          "base_uri": "https://localhost:8080/",
          "height": 173
        },
        "outputId": "b735dd8d-6737-429e-a45e-676d05ec5b56"
      },
      "source": [
        "data.info()"
      ],
      "execution_count": 15,
      "outputs": [
        {
          "output_type": "stream",
          "text": [
            "<class 'pandas.core.frame.DataFrame'>\n",
            "RangeIndex: 5572 entries, 0 to 5571\n",
            "Data columns (total 2 columns):\n",
            " #   Column   Non-Null Count  Dtype \n",
            "---  ------   --------------  ----- \n",
            " 0   label    5572 non-null   int64 \n",
            " 1   Message  5572 non-null   object\n",
            "dtypes: int64(1), object(1)\n",
            "memory usage: 87.2+ KB\n"
          ],
          "name": "stdout"
        }
      ]
    },
    {
      "cell_type": "code",
      "metadata": {
        "id": "ph21uxcoWHm-",
        "colab_type": "code",
        "colab": {
          "base_uri": "https://localhost:8080/",
          "height": 202
        },
        "outputId": "9321bc0a-2dcf-4aa8-d558-165bc86da23d"
      },
      "source": [
        "data.head()"
      ],
      "execution_count": 16,
      "outputs": [
        {
          "output_type": "execute_result",
          "data": {
            "text/html": [
              "<div>\n",
              "<style scoped>\n",
              "    .dataframe tbody tr th:only-of-type {\n",
              "        vertical-align: middle;\n",
              "    }\n",
              "\n",
              "    .dataframe tbody tr th {\n",
              "        vertical-align: top;\n",
              "    }\n",
              "\n",
              "    .dataframe thead th {\n",
              "        text-align: right;\n",
              "    }\n",
              "</style>\n",
              "<table border=\"1\" class=\"dataframe\">\n",
              "  <thead>\n",
              "    <tr style=\"text-align: right;\">\n",
              "      <th></th>\n",
              "      <th>label</th>\n",
              "      <th>Message</th>\n",
              "    </tr>\n",
              "  </thead>\n",
              "  <tbody>\n",
              "    <tr>\n",
              "      <th>0</th>\n",
              "      <td>0</td>\n",
              "      <td>go jurong point crazi avail bugi n great world...</td>\n",
              "    </tr>\n",
              "    <tr>\n",
              "      <th>1</th>\n",
              "      <td>0</td>\n",
              "      <td>ok lar joke wif u oni</td>\n",
              "    </tr>\n",
              "    <tr>\n",
              "      <th>2</th>\n",
              "      <td>1</td>\n",
              "      <td>free entri wkli comp win fa cup final tkts st ...</td>\n",
              "    </tr>\n",
              "    <tr>\n",
              "      <th>3</th>\n",
              "      <td>0</td>\n",
              "      <td>u dun say earli hor u c alreadi say</td>\n",
              "    </tr>\n",
              "    <tr>\n",
              "      <th>4</th>\n",
              "      <td>0</td>\n",
              "      <td>nah think goe usf live around though</td>\n",
              "    </tr>\n",
              "  </tbody>\n",
              "</table>\n",
              "</div>"
            ],
            "text/plain": [
              "   label                                            Message\n",
              "0      0  go jurong point crazi avail bugi n great world...\n",
              "1      0                              ok lar joke wif u oni\n",
              "2      1  free entri wkli comp win fa cup final tkts st ...\n",
              "3      0                u dun say earli hor u c alreadi say\n",
              "4      0               nah think goe usf live around though"
            ]
          },
          "metadata": {
            "tags": []
          },
          "execution_count": 16
        }
      ]
    },
    {
      "cell_type": "markdown",
      "metadata": {
        "id": "Mc5X0o1OMZoV",
        "colab_type": "text"
      },
      "source": [
        "## Splitting data into Training and Test"
      ]
    },
    {
      "cell_type": "code",
      "metadata": {
        "id": "fqjuxhqFMdFT",
        "colab_type": "code",
        "colab": {
          "base_uri": "https://localhost:8080/",
          "height": 52
        },
        "outputId": "a8ebb6fd-b6bc-4504-fcd0-2b2c1a054774"
      },
      "source": [
        "from sklearn.model_selection import train_test_split\n",
        "\n",
        "X_train,X_test,y_train,y_test= train_test_split(data.Message,data.label,test_size=0.25,random_state=34)\n",
        "print(X_train.shape,y_train.shape)\n",
        "print(X_test.shape,y_test.shape)"
      ],
      "execution_count": 17,
      "outputs": [
        {
          "output_type": "stream",
          "text": [
            "(4179,) (4179,)\n",
            "(1393,) (1393,)\n"
          ],
          "name": "stdout"
        }
      ]
    },
    {
      "cell_type": "markdown",
      "metadata": {
        "id": "f4QR0oLJP0Is",
        "colab_type": "text"
      },
      "source": [
        "##Vectorizing Message column"
      ]
    },
    {
      "cell_type": "code",
      "metadata": {
        "id": "bSGfi0wqPnK1",
        "colab_type": "code",
        "colab": {}
      },
      "source": [
        "from sklearn.feature_extraction.text import CountVectorizer\n",
        "cv= CountVectorizer(max_features=2500)\n",
        "cv.fit(X_train)\n",
        "Message_train_ohe= cv.transform(X_train)\n",
        "Message_test_ohe= cv.transform(X_test)"
      ],
      "execution_count": 41,
      "outputs": []
    },
    {
      "cell_type": "markdown",
      "metadata": {
        "id": "IZJqGJaqRazP",
        "colab_type": "text"
      },
      "source": [
        "## Applying ML Models"
      ]
    },
    {
      "cell_type": "code",
      "metadata": {
        "id": "QjWBSJn3QYQ2",
        "colab_type": "code",
        "colab": {}
      },
      "source": [
        "\n",
        "from sklearn.model_selection import RandomizedSearchCV\n",
        "from sklearn.svm import SVC\n",
        "from sklearn.naive_bayes import MultinomialNB\n",
        "model= MultinomialNB()\n",
        "param={'alpha':[0.0001,0.001,0.01,0.1,1,10,100]}\n",
        "clf= RandomizedSearchCV(model,param,cv=4,n_iter=6,random_state=25)\n",
        "search=clf.fit(Message_train_ohe,y_train)"
      ],
      "execution_count": 31,
      "outputs": []
    },
    {
      "cell_type": "code",
      "metadata": {
        "id": "nrnpYM8xQb-a",
        "colab_type": "code",
        "colab": {}
      },
      "source": [
        "results= pd.DataFrame(search.cv_results_)"
      ],
      "execution_count": 33,
      "outputs": []
    },
    {
      "cell_type": "code",
      "metadata": {
        "id": "udDfrKxR76qr",
        "colab_type": "code",
        "colab": {
          "base_uri": "https://localhost:8080/",
          "height": 357
        },
        "outputId": "6d85c347-b530-4e83-c7c5-5001f4edc11b"
      },
      "source": [
        "results"
      ],
      "execution_count": 34,
      "outputs": [
        {
          "output_type": "execute_result",
          "data": {
            "text/html": [
              "<div>\n",
              "<style scoped>\n",
              "    .dataframe tbody tr th:only-of-type {\n",
              "        vertical-align: middle;\n",
              "    }\n",
              "\n",
              "    .dataframe tbody tr th {\n",
              "        vertical-align: top;\n",
              "    }\n",
              "\n",
              "    .dataframe thead th {\n",
              "        text-align: right;\n",
              "    }\n",
              "</style>\n",
              "<table border=\"1\" class=\"dataframe\">\n",
              "  <thead>\n",
              "    <tr style=\"text-align: right;\">\n",
              "      <th></th>\n",
              "      <th>mean_fit_time</th>\n",
              "      <th>std_fit_time</th>\n",
              "      <th>mean_score_time</th>\n",
              "      <th>std_score_time</th>\n",
              "      <th>param_alpha</th>\n",
              "      <th>params</th>\n",
              "      <th>split0_test_score</th>\n",
              "      <th>split1_test_score</th>\n",
              "      <th>split2_test_score</th>\n",
              "      <th>split3_test_score</th>\n",
              "      <th>mean_test_score</th>\n",
              "      <th>std_test_score</th>\n",
              "      <th>rank_test_score</th>\n",
              "    </tr>\n",
              "  </thead>\n",
              "  <tbody>\n",
              "    <tr>\n",
              "      <th>0</th>\n",
              "      <td>0.002815</td>\n",
              "      <td>0.000881</td>\n",
              "      <td>0.000606</td>\n",
              "      <td>0.000122</td>\n",
              "      <td>0.1</td>\n",
              "      <td>{'alpha': 0.1}</td>\n",
              "      <td>0.984689</td>\n",
              "      <td>0.977990</td>\n",
              "      <td>0.982775</td>\n",
              "      <td>0.982759</td>\n",
              "      <td>0.982053</td>\n",
              "      <td>0.002473</td>\n",
              "      <td>1</td>\n",
              "    </tr>\n",
              "    <tr>\n",
              "      <th>1</th>\n",
              "      <td>0.002199</td>\n",
              "      <td>0.000020</td>\n",
              "      <td>0.000518</td>\n",
              "      <td>0.000024</td>\n",
              "      <td>0.0001</td>\n",
              "      <td>{'alpha': 0.0001}</td>\n",
              "      <td>0.981818</td>\n",
              "      <td>0.975120</td>\n",
              "      <td>0.976077</td>\n",
              "      <td>0.977969</td>\n",
              "      <td>0.977746</td>\n",
              "      <td>0.002565</td>\n",
              "      <td>4</td>\n",
              "    </tr>\n",
              "    <tr>\n",
              "      <th>2</th>\n",
              "      <td>0.002197</td>\n",
              "      <td>0.000038</td>\n",
              "      <td>0.000505</td>\n",
              "      <td>0.000011</td>\n",
              "      <td>0.001</td>\n",
              "      <td>{'alpha': 0.001}</td>\n",
              "      <td>0.982775</td>\n",
              "      <td>0.975120</td>\n",
              "      <td>0.979904</td>\n",
              "      <td>0.980843</td>\n",
              "      <td>0.979660</td>\n",
              "      <td>0.002819</td>\n",
              "      <td>3</td>\n",
              "    </tr>\n",
              "    <tr>\n",
              "      <th>3</th>\n",
              "      <td>0.002204</td>\n",
              "      <td>0.000045</td>\n",
              "      <td>0.000489</td>\n",
              "      <td>0.000007</td>\n",
              "      <td>10</td>\n",
              "      <td>{'alpha': 10}</td>\n",
              "      <td>0.977033</td>\n",
              "      <td>0.982775</td>\n",
              "      <td>0.977033</td>\n",
              "      <td>0.971264</td>\n",
              "      <td>0.977027</td>\n",
              "      <td>0.004070</td>\n",
              "      <td>5</td>\n",
              "    </tr>\n",
              "    <tr>\n",
              "      <th>4</th>\n",
              "      <td>0.002158</td>\n",
              "      <td>0.000036</td>\n",
              "      <td>0.000477</td>\n",
              "      <td>0.000009</td>\n",
              "      <td>100</td>\n",
              "      <td>{'alpha': 100}</td>\n",
              "      <td>0.916746</td>\n",
              "      <td>0.920574</td>\n",
              "      <td>0.911962</td>\n",
              "      <td>0.920498</td>\n",
              "      <td>0.917445</td>\n",
              "      <td>0.003524</td>\n",
              "      <td>6</td>\n",
              "    </tr>\n",
              "    <tr>\n",
              "      <th>5</th>\n",
              "      <td>0.003301</td>\n",
              "      <td>0.001704</td>\n",
              "      <td>0.000588</td>\n",
              "      <td>0.000124</td>\n",
              "      <td>0.01</td>\n",
              "      <td>{'alpha': 0.01}</td>\n",
              "      <td>0.983732</td>\n",
              "      <td>0.976077</td>\n",
              "      <td>0.982775</td>\n",
              "      <td>0.980843</td>\n",
              "      <td>0.980857</td>\n",
              "      <td>0.002949</td>\n",
              "      <td>2</td>\n",
              "    </tr>\n",
              "  </tbody>\n",
              "</table>\n",
              "</div>"
            ],
            "text/plain": [
              "   mean_fit_time  std_fit_time  ...  std_test_score  rank_test_score\n",
              "0       0.002815      0.000881  ...        0.002473                1\n",
              "1       0.002199      0.000020  ...        0.002565                4\n",
              "2       0.002197      0.000038  ...        0.002819                3\n",
              "3       0.002204      0.000045  ...        0.004070                5\n",
              "4       0.002158      0.000036  ...        0.003524                6\n",
              "5       0.003301      0.001704  ...        0.002949                2\n",
              "\n",
              "[6 rows x 13 columns]"
            ]
          },
          "metadata": {
            "tags": []
          },
          "execution_count": 34
        }
      ]
    },
    {
      "cell_type": "markdown",
      "metadata": {
        "id": "1v1CzQOBC45y",
        "colab_type": "text"
      },
      "source": [
        "best_alpha=0.1"
      ]
    },
    {
      "cell_type": "code",
      "metadata": {
        "id": "CTQmXD42CDpI",
        "colab_type": "code",
        "colab": {
          "base_uri": "https://localhost:8080/",
          "height": 35
        },
        "outputId": "1dcd340b-392f-4094-f673-c33b33f4a5e1"
      },
      "source": [
        "# training model on the best parameter\n",
        "classifier= MultinomialNB(alpha=0.1)\n",
        "classifier.fit(Message_train_ohe,y_train)\n"
      ],
      "execution_count": 36,
      "outputs": [
        {
          "output_type": "execute_result",
          "data": {
            "text/plain": [
              "MultinomialNB(alpha=0.1, class_prior=None, fit_prior=True)"
            ]
          },
          "metadata": {
            "tags": []
          },
          "execution_count": 36
        }
      ]
    },
    {
      "cell_type": "code",
      "metadata": {
        "id": "MK5xeLkSDNF4",
        "colab_type": "code",
        "colab": {}
      },
      "source": [
        "def predict_spam(msg):\n",
        "  msg= re.sub(pattern='[^a-zA-Z]',repl=' ',string=msg)\n",
        "  msg=msg.lower()\n",
        "  msg= [word for word in msg.split() if word not in set(stopw)]\n",
        "  msg= [sbs.stem(word) for word in msg]\n",
        "  msg=' '.join(msg)\n",
        "  msg= cv.transform([msg]).toarray()\n",
        "  return classifier.predict(msg)\n",
        "  "
      ],
      "execution_count": 44,
      "outputs": []
    },
    {
      "cell_type": "code",
      "metadata": {
        "id": "mPQJRi5EEiNR",
        "colab_type": "code",
        "colab": {
          "base_uri": "https://localhost:8080/",
          "height": 35
        },
        "outputId": "d9dd978c-31b3-42f2-83b9-f14f628b8e8d"
      },
      "source": [
        "message='you have won a lottery worth $1000.Please share your details to claim prizes'\n",
        "res= predict_spam(message)\n",
        "if res==1:\n",
        "  print('Message is Spam')\n",
        "else:\n",
        "  print('Not a Spam message')"
      ],
      "execution_count": 45,
      "outputs": [
        {
          "output_type": "stream",
          "text": [
            "Message is Spam\n"
          ],
          "name": "stdout"
        }
      ]
    },
    {
      "cell_type": "code",
      "metadata": {
        "id": "u-atk9OfFAFf",
        "colab_type": "code",
        "colab": {
          "base_uri": "https://localhost:8080/",
          "height": 35
        },
        "outputId": "81327c0f-8f15-4017-d17c-f98459f8a941"
      },
      "source": [
        "message='You have been assigned the work.Please share your progress till tomorrow eod'\n",
        "res= predict_spam(message)\n",
        "if res==1:\n",
        "  print('Message is Spam')\n",
        "else:\n",
        "  print('Not a Spam message')"
      ],
      "execution_count": 46,
      "outputs": [
        {
          "output_type": "stream",
          "text": [
            "Not a Spam message\n"
          ],
          "name": "stdout"
        }
      ]
    },
    {
      "cell_type": "code",
      "metadata": {
        "id": "NOYv5F2UF-Ms",
        "colab_type": "code",
        "colab": {}
      },
      "source": [
        ""
      ],
      "execution_count": null,
      "outputs": []
    }
  ]
}